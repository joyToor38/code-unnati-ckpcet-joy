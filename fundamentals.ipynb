{
 "cells": [
  {
   "cell_type": "markdown",
   "id": "ab06e377",
   "metadata": {},
   "source": [
    "# Unit 1 Python Fundamentals"
   ]
  },
  {
   "cell_type": "code",
   "execution_count": 1,
   "id": "dcb44edf",
   "metadata": {},
   "outputs": [
    {
     "name": "stdout",
     "output_type": "stream",
     "text": [
      "Hello CKPCET\n"
     ]
    }
   ],
   "source": [
    "#my first python program\n",
    "print(\"Hello CKPCET\")"
   ]
  },
  {
   "cell_type": "code",
   "execution_count": 2,
   "id": "d88a4b3e",
   "metadata": {},
   "outputs": [
    {
     "name": "stdout",
     "output_type": "stream",
     "text": [
      "Hello Surat\n"
     ]
    }
   ],
   "source": [
    "print(\"Hello Surat\")"
   ]
  },
  {
   "cell_type": "code",
   "execution_count": 14,
   "id": "b2385440",
   "metadata": {},
   "outputs": [
    {
     "data": {
      "text/plain": [
       "77"
      ]
     },
     "execution_count": 14,
     "metadata": {},
     "output_type": "execute_result"
    }
   ],
   "source": [
    "#variable and data types\n",
    "A=77\n",
    "A"
   ]
  },
  {
   "cell_type": "code",
   "execution_count": 5,
   "id": "801039c2",
   "metadata": {},
   "outputs": [
    {
     "name": "stdout",
     "output_type": "stream",
     "text": [
      "7\n",
      "7.77\n",
      "Joy\n",
      "True\n"
     ]
    }
   ],
   "source": [
    "var1 = 7      #int \n",
    "var2 = 7.77   #float\n",
    "var3 = \"Joy\"  #string\n",
    "var4 = True   #boolean\n",
    "\n",
    "print(var1)\n",
    "print(var2)\n",
    "print(var3)\n",
    "print(var4)"
   ]
  },
  {
   "cell_type": "code",
   "execution_count": 10,
   "id": "ec657dd6",
   "metadata": {},
   "outputs": [
    {
     "data": {
      "text/plain": [
       "int"
      ]
     },
     "execution_count": 10,
     "metadata": {},
     "output_type": "execute_result"
    }
   ],
   "source": [
    "type(var1)"
   ]
  },
  {
   "cell_type": "code",
   "execution_count": 11,
   "id": "643d53ff",
   "metadata": {},
   "outputs": [
    {
     "data": {
      "text/plain": [
       "float"
      ]
     },
     "execution_count": 11,
     "metadata": {},
     "output_type": "execute_result"
    }
   ],
   "source": [
    "type(var2)"
   ]
  },
  {
   "cell_type": "code",
   "execution_count": 12,
   "id": "a3228dea",
   "metadata": {},
   "outputs": [
    {
     "data": {
      "text/plain": [
       "str"
      ]
     },
     "execution_count": 12,
     "metadata": {},
     "output_type": "execute_result"
    }
   ],
   "source": [
    "type(var3)"
   ]
  },
  {
   "cell_type": "code",
   "execution_count": 13,
   "id": "6f0cdc08",
   "metadata": {},
   "outputs": [
    {
     "data": {
      "text/plain": [
       "bool"
      ]
     },
     "execution_count": 13,
     "metadata": {},
     "output_type": "execute_result"
    }
   ],
   "source": [
    "type(var4)"
   ]
  },
  {
   "cell_type": "code",
   "execution_count": 25,
   "id": "1aef6387",
   "metadata": {},
   "outputs": [
    {
     "name": "stdout",
     "output_type": "stream",
     "text": [
      "88 <class 'int'>\n",
      "89.89 <class 'float'>\n",
      "Ram <class 'str'>\n",
      "False <class 'bool'>\n",
      "176 <class 'int'>\n",
      "0.97 <class 'float'>\n",
      "True <class 'bool'>\n",
      "Shyam <class 'str'>\n",
      "45 <class 'int'>\n",
      "456.65 <class 'float'>\n",
      "25 <class 'int'>\n",
      "Name <class 'str'>\n",
      "-33 <class 'int'>\n",
      "True <class 'bool'>\n",
      "1.0 <class 'float'>\n"
     ]
    }
   ],
   "source": [
    "a = 88\n",
    "print(a,type(a))\n",
    "\n",
    "b = 89.89\n",
    "print(b,type(b))\n",
    "\n",
    "c = \"Ram\"\n",
    "print(c,type(c))\n",
    "\n",
    "d = False\n",
    "print(d,type(d))\n",
    "\n",
    "e = 176\n",
    "print(e,type(e))\n",
    "\n",
    "f = 0.97\n",
    "print(f,type(f))\n",
    "\n",
    "g = True\n",
    "print(g,type(g))\n",
    "\n",
    "h = \"Shyam\"\n",
    "print(h,type(h))\n",
    "\n",
    "i = 45\n",
    "print(i,type(i))\n",
    "\n",
    "j = 456.65\n",
    "print(j,type(j))\n",
    "\n",
    "k = 5**2\n",
    "print(k,type(k))\n",
    "\n",
    "l = \"Name\"\n",
    "print(l,type(l))\n",
    "\n",
    "m = -33\n",
    "print(m,type(m))\n",
    "\n",
    "n = True\n",
    "print(n,type(n))\n",
    "\n",
    "o = 5/5\n",
    "print(o,type(o))"
   ]
  },
  {
   "cell_type": "code",
   "execution_count": 23,
   "id": "f2a336d4",
   "metadata": {},
   "outputs": [],
   "source": [
    "#mathematical operations on variables"
   ]
  },
  {
   "cell_type": "code",
   "execution_count": 30,
   "id": "4838d496",
   "metadata": {},
   "outputs": [
    {
     "name": "stdout",
     "output_type": "stream",
     "text": [
      "12\n",
      "8\n",
      "20\n",
      "5.0\n",
      "100\n"
     ]
    }
   ],
   "source": [
    "a=10\n",
    "b=2\n",
    "\n",
    "print(a+b)\n",
    "print(a-b)\n",
    "print(a*b)\n",
    "print(a/b)\n",
    "print(a**b)"
   ]
  },
  {
   "cell_type": "code",
   "execution_count": 34,
   "id": "83b25544",
   "metadata": {},
   "outputs": [
    {
     "name": "stdout",
     "output_type": "stream",
     "text": [
      "Enter num 1 : 10\n",
      "Enter num 2 : 2\n",
      "Product is 20\n",
      "addition is 12\n",
      "subtraction is 8\n",
      "division is 5.0\n"
     ]
    }
   ],
   "source": [
    "#take 2 numbers as input from the user and multiply both numbers\n",
    "num1 = int(input(\"Enter num 1 : \"))\n",
    "num2 = int(input(\"Enter num 2 : \"))\n",
    "multiply = num1 * num2\n",
    "addition = num1 + num2\n",
    "subtraction = num1 - num2\n",
    "division = num1 / num2\n",
    "print(\"Product is\",multiply)\n",
    "print(\"addition is\",addition)\n",
    "print(\"subtraction is\",subtraction)\n",
    "print(\"division is\",division)"
   ]
  },
  {
   "cell_type": "code",
   "execution_count": 42,
   "id": "0b4997b3",
   "metadata": {},
   "outputs": [
    {
     "name": "stdout",
     "output_type": "stream",
     "text": [
      "JoyAnilbhaiToor\n"
     ]
    }
   ],
   "source": [
    "#string concatenation\n",
    "str1 = \"Joy\"\n",
    "str2 = \"Anilbhai\"\n",
    "str3 = \"Toor\"\n",
    "name = str1 + str2 + str3\n",
    "print(name)"
   ]
  },
  {
   "cell_type": "code",
   "execution_count": 43,
   "id": "71811aeb",
   "metadata": {},
   "outputs": [
    {
     "name": "stdout",
     "output_type": "stream",
     "text": [
      "Joy Anilbhai Toor\n"
     ]
    }
   ],
   "source": [
    "print(str1 + \" \" + str2 + \" \" + str3)"
   ]
  },
  {
   "cell_type": "code",
   "execution_count": 45,
   "id": "00f80856",
   "metadata": {},
   "outputs": [
    {
     "name": "stdout",
     "output_type": "stream",
     "text": [
      "15\n"
     ]
    }
   ],
   "source": [
    "print(len(name))"
   ]
  },
  {
   "cell_type": "markdown",
   "id": "26b7f96f",
   "metadata": {},
   "source": [
    "# String Slicing"
   ]
  },
  {
   "cell_type": "code",
   "execution_count": 51,
   "id": "991491f5",
   "metadata": {},
   "outputs": [
    {
     "data": {
      "text/plain": [
       "'Joy'"
      ]
     },
     "execution_count": 51,
     "metadata": {},
     "output_type": "execute_result"
    }
   ],
   "source": [
    "name[0:3]"
   ]
  },
  {
   "cell_type": "code",
   "execution_count": 52,
   "id": "ff704eef",
   "metadata": {},
   "outputs": [
    {
     "name": "stdout",
     "output_type": "stream",
     "text": [
      "Joy\n"
     ]
    }
   ],
   "source": [
    "print(name[0:3])"
   ]
  },
  {
   "cell_type": "code",
   "execution_count": 57,
   "id": "ba9cf412",
   "metadata": {},
   "outputs": [
    {
     "data": {
      "text/plain": [
       "'JoyAnilbhaiToor'"
      ]
     },
     "execution_count": 57,
     "metadata": {},
     "output_type": "execute_result"
    }
   ],
   "source": [
    "name[:len(name)]"
   ]
  },
  {
   "cell_type": "code",
   "execution_count": 56,
   "id": "74d83ebf",
   "metadata": {},
   "outputs": [
    {
     "data": {
      "text/plain": [
       "'Toor'"
      ]
     },
     "execution_count": 56,
     "metadata": {},
     "output_type": "execute_result"
    }
   ],
   "source": [
    "name[11:15]"
   ]
  },
  {
   "cell_type": "code",
   "execution_count": 58,
   "id": "198fe94b",
   "metadata": {},
   "outputs": [
    {
     "data": {
      "text/plain": [
       "'JoyAnilbhaiToor'"
      ]
     },
     "execution_count": 58,
     "metadata": {},
     "output_type": "execute_result"
    }
   ],
   "source": [
    "name[:]"
   ]
  },
  {
   "cell_type": "markdown",
   "id": "acd61cad",
   "metadata": {},
   "source": [
    "# Tuple"
   ]
  },
  {
   "cell_type": "code",
   "execution_count": 60,
   "id": "93ce4180",
   "metadata": {},
   "outputs": [
    {
     "name": "stdout",
     "output_type": "stream",
     "text": [
      "('Joy', 20, 'Surat', 99.99)\n",
      "<class 'tuple'>\n"
     ]
    }
   ],
   "source": [
    "#create tuples\n",
    "\n",
    "tup1 = (\"Joy\", 20, \"Surat\", 99.99)\n",
    "print(tup1)\n",
    "print(type(tup1))"
   ]
  },
  {
   "cell_type": "code",
   "execution_count": 61,
   "id": "e0625068",
   "metadata": {},
   "outputs": [
    {
     "data": {
      "text/plain": [
       "99.99"
      ]
     },
     "execution_count": 61,
     "metadata": {},
     "output_type": "execute_result"
    }
   ],
   "source": [
    "tup1[3]"
   ]
  },
  {
   "cell_type": "code",
   "execution_count": 62,
   "id": "0039a1a3",
   "metadata": {},
   "outputs": [
    {
     "data": {
      "text/plain": [
       "('Joy', 20, 'Surat')"
      ]
     },
     "execution_count": 62,
     "metadata": {},
     "output_type": "execute_result"
    }
   ],
   "source": [
    "tup1[0:3]"
   ]
  },
  {
   "cell_type": "code",
   "execution_count": 63,
   "id": "c73d6f43",
   "metadata": {},
   "outputs": [
    {
     "data": {
      "text/plain": [
       "('Joy', 20, 'Surat', 99.99)"
      ]
     },
     "execution_count": 63,
     "metadata": {},
     "output_type": "execute_result"
    }
   ],
   "source": [
    "tup1[:]"
   ]
  },
  {
   "cell_type": "code",
   "execution_count": 66,
   "id": "1fe06e13",
   "metadata": {},
   "outputs": [
    {
     "name": "stdout",
     "output_type": "stream",
     "text": [
      "('Joy', 20, 'Surat', 99.99, 'Ram', 33, 'Ahmedabad', True)\n"
     ]
    }
   ],
   "source": [
    "tup2 = (\"Ram\", 33, \"Ahmedabad\", True)\n",
    "tup3 = tup1 + tup2\n",
    "print(tup3)"
   ]
  },
  {
   "cell_type": "code",
   "execution_count": 67,
   "id": "8c05427c",
   "metadata": {},
   "outputs": [
    {
     "ename": "TypeError",
     "evalue": "'tuple' object doesn't support item deletion",
     "output_type": "error",
     "traceback": [
      "\u001b[1;31m---------------------------------------------------------------------------\u001b[0m",
      "\u001b[1;31mTypeError\u001b[0m                                 Traceback (most recent call last)",
      "Input \u001b[1;32mIn [67]\u001b[0m, in \u001b[0;36m<cell line: 2>\u001b[1;34m()\u001b[0m\n\u001b[0;32m      1\u001b[0m \u001b[38;5;66;03m#Tuples are immutable\u001b[39;00m\n\u001b[1;32m----> 2\u001b[0m \u001b[38;5;28;01mdel\u001b[39;00m tup3[\u001b[38;5;241m2\u001b[39m]\n",
      "\u001b[1;31mTypeError\u001b[0m: 'tuple' object doesn't support item deletion"
     ]
    }
   ],
   "source": [
    "#Tuples are immutable\n",
    "del tup3[2]"
   ]
  },
  {
   "cell_type": "markdown",
   "id": "eff0e35e",
   "metadata": {},
   "source": [
    "# List in python"
   ]
  },
  {
   "cell_type": "code",
   "execution_count": 77,
   "id": "c05ce5b6",
   "metadata": {},
   "outputs": [
    {
     "name": "stdout",
     "output_type": "stream",
     "text": [
      "['jash', 21, 45.45, 'University', False, 'Mehta']\n",
      "<class 'list'>\n"
     ]
    }
   ],
   "source": [
    "#create list\n",
    "\n",
    "list1 = [\"jash\", 21, 45.45, \"University\", False,\"Mehta\"]\n",
    "print(list1)\n",
    "print(type(list1))"
   ]
  },
  {
   "cell_type": "code",
   "execution_count": 78,
   "id": "ffd7e06c",
   "metadata": {},
   "outputs": [
    {
     "data": {
      "text/plain": [
       "6"
      ]
     },
     "execution_count": 78,
     "metadata": {},
     "output_type": "execute_result"
    }
   ],
   "source": [
    "len(list1)"
   ]
  },
  {
   "cell_type": "code",
   "execution_count": 79,
   "id": "1f439431",
   "metadata": {},
   "outputs": [
    {
     "name": "stdout",
     "output_type": "stream",
     "text": [
      "['jash', 21, 45.45, 'University', False, 'Mehta']\n",
      "['jash', 45.45, 'University', False, 'Mehta']\n"
     ]
    }
   ],
   "source": [
    "print(list1)\n",
    "list1.remove(21)\n",
    "print(list1)"
   ]
  },
  {
   "cell_type": "code",
   "execution_count": 80,
   "id": "033c8614",
   "metadata": {},
   "outputs": [
    {
     "name": "stdout",
     "output_type": "stream",
     "text": [
      "['jash', 45.45, 'University', False, 'Mehta']\n",
      "['jash', 45.45, 'University', False, 'Mehta', 'joy']\n"
     ]
    }
   ],
   "source": [
    "# append inserts at last element\n",
    "print(list1)\n",
    "list1.append(\"joy\")\n",
    "print(list1)"
   ]
  },
  {
   "cell_type": "markdown",
   "id": "94ecbfb6",
   "metadata": {},
   "source": [
    "# Dictionary"
   ]
  },
  {
   "cell_type": "code",
   "execution_count": 83,
   "id": "77705268",
   "metadata": {},
   "outputs": [
    {
     "name": "stdout",
     "output_type": "stream",
     "text": [
      "{'university': 'C.K.P.C.E.T', 'Course': 'SDE', 'Branch': 'Computer'}\n",
      "<class 'dict'>\n",
      "3\n"
     ]
    }
   ],
   "source": [
    "dict1 = {\n",
    "    \"university\" : \"C.K.P.C.E.T\",\n",
    "    \"Course\" : \"SDE\",\n",
    "    \"Branch\" : \"Computer\"\n",
    "}\n",
    "print(dict1)\n",
    "print(type(dict1))\n",
    "print(len(dict1))"
   ]
  },
  {
   "cell_type": "markdown",
   "id": "44a209a2",
   "metadata": {},
   "source": [
    "# Installing packages"
   ]
  },
  {
   "cell_type": "code",
   "execution_count": null,
   "id": "9164c09e",
   "metadata": {},
   "outputs": [],
   "source": [
    "!pip install <package name>\n",
    "!conda install <package name>"
   ]
  },
  {
   "cell_type": "markdown",
   "id": "715f692c",
   "metadata": {},
   "source": [
    "# Python Conditional Statements"
   ]
  },
  {
   "cell_type": "code",
   "execution_count": 90,
   "id": "7e7fd6f6",
   "metadata": {},
   "outputs": [
    {
     "name": "stdout",
     "output_type": "stream",
     "text": [
      "7 is a positive number\n",
      "This is true\n"
     ]
    }
   ],
   "source": [
    "#if statement\n",
    "\n",
    "num = 7\n",
    "if num > 0:\n",
    "    print(num, \"is a positive number\")\n",
    "    print(\"This is true\")\n"
   ]
  },
  {
   "cell_type": "code",
   "execution_count": 93,
   "id": "a66ec972",
   "metadata": {},
   "outputs": [
    {
     "name": "stdout",
     "output_type": "stream",
     "text": [
      "-7 is a negative number\n"
     ]
    }
   ],
   "source": [
    "#if-else statement\n",
    "\n",
    "num = -7\n",
    "if num > 0:\n",
    "    print(num, \"is a positive number\")\n",
    "else :\n",
    "    print(num, \"is a negative number\")"
   ]
  }
 ],
 "metadata": {
  "kernelspec": {
   "display_name": "Python 3 (ipykernel)",
   "language": "python",
   "name": "python3"
  },
  "language_info": {
   "codemirror_mode": {
    "name": "ipython",
    "version": 3
   },
   "file_extension": ".py",
   "mimetype": "text/x-python",
   "name": "python",
   "nbconvert_exporter": "python",
   "pygments_lexer": "ipython3",
   "version": "3.9.12"
  }
 },
 "nbformat": 4,
 "nbformat_minor": 5
}
