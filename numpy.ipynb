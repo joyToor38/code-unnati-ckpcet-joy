{
 "cells": [
  {
   "cell_type": "markdown",
   "id": "8f3c64c7",
   "metadata": {},
   "source": [
    "# Numpy"
   ]
  },
  {
   "cell_type": "code",
   "execution_count": 1,
   "id": "63d65bea",
   "metadata": {},
   "outputs": [],
   "source": [
    "#import numpy library\n",
    "\n",
    "import numpy as np"
   ]
  },
  {
   "cell_type": "code",
   "execution_count": 7,
   "id": "b3270fc0",
   "metadata": {},
   "outputs": [
    {
     "name": "stdout",
     "output_type": "stream",
     "text": [
      "[[1 3 5]\n",
      " [2 4 6]]\n"
     ]
    }
   ],
   "source": [
    "# creating an array\n",
    "\n",
    "arr = np.array([[1,3,5],[2,4,6]])\n",
    "print(arr)"
   ]
  },
  {
   "cell_type": "code",
   "execution_count": 8,
   "id": "051756b3",
   "metadata": {},
   "outputs": [
    {
     "data": {
      "text/plain": [
       "numpy.ndarray"
      ]
     },
     "execution_count": 8,
     "metadata": {},
     "output_type": "execute_result"
    }
   ],
   "source": [
    "type(arr)"
   ]
  },
  {
   "cell_type": "code",
   "execution_count": 12,
   "id": "6a2674b3",
   "metadata": {},
   "outputs": [
    {
     "name": "stdout",
     "output_type": "stream",
     "text": [
      "2\n"
     ]
    }
   ],
   "source": [
    "#to check dimension of the array\n",
    "\n",
    "# arr.ndim\n",
    "print(arr.ndim)"
   ]
  },
  {
   "cell_type": "code",
   "execution_count": 13,
   "id": "fca3d106",
   "metadata": {},
   "outputs": [
    {
     "data": {
      "text/plain": [
       "(2, 3)"
      ]
     },
     "execution_count": 13,
     "metadata": {},
     "output_type": "execute_result"
    }
   ],
   "source": [
    "#to find the numbers of rows and columns\n",
    "\n",
    "arr.shape"
   ]
  },
  {
   "cell_type": "code",
   "execution_count": 15,
   "id": "5a2f0ac3",
   "metadata": {},
   "outputs": [
    {
     "name": "stdout",
     "output_type": "stream",
     "text": [
      "[3 4 5 6]\n"
     ]
    }
   ],
   "source": [
    "onedarr = np.array([3,4,5,6])\n",
    "print(onedarr)"
   ]
  },
  {
   "cell_type": "code",
   "execution_count": 17,
   "id": "9d99f0a4",
   "metadata": {},
   "outputs": [
    {
     "data": {
      "text/plain": [
       "1"
      ]
     },
     "execution_count": 17,
     "metadata": {},
     "output_type": "execute_result"
    }
   ],
   "source": [
    "onedarr.ndim"
   ]
  },
  {
   "cell_type": "code",
   "execution_count": 19,
   "id": "b6ddab5a",
   "metadata": {},
   "outputs": [
    {
     "name": "stdout",
     "output_type": "stream",
     "text": [
      "[[ 1  2  3  4  5]\n",
      " [ 6  7  8  9 10]\n",
      " [11 12 13 14 15]]\n"
     ]
    }
   ],
   "source": [
    "newarr = np.array([[1,2,3,4,5], [6,7,8,9,10], [11,12,13,14,15] ])\n",
    "print(newarr)"
   ]
  },
  {
   "cell_type": "code",
   "execution_count": 20,
   "id": "76f3646d",
   "metadata": {},
   "outputs": [
    {
     "data": {
      "text/plain": [
       "(3, 5)"
      ]
     },
     "execution_count": 20,
     "metadata": {},
     "output_type": "execute_result"
    }
   ],
   "source": [
    "newarr.shape"
   ]
  },
  {
   "cell_type": "code",
   "execution_count": 26,
   "id": "5febe76f",
   "metadata": {},
   "outputs": [
    {
     "name": "stdout",
     "output_type": "stream",
     "text": [
      "<memory at 0x0000023925230930>\n"
     ]
    }
   ],
   "source": [
    "#to find memory location in the array\n",
    "\n",
    "print(newarr.data)"
   ]
  },
  {
   "cell_type": "markdown",
   "id": "c398f0a4",
   "metadata": {},
   "source": [
    "# Random number generation using numpy"
   ]
  },
  {
   "cell_type": "code",
   "execution_count": 29,
   "id": "bd7d1eb1",
   "metadata": {},
   "outputs": [],
   "source": [
    "from numpy import random"
   ]
  },
  {
   "cell_type": "code",
   "execution_count": 33,
   "id": "736296c2",
   "metadata": {},
   "outputs": [
    {
     "name": "stdout",
     "output_type": "stream",
     "text": [
      "92\n"
     ]
    }
   ],
   "source": [
    "# (range till where you want to generate the numbers)\n",
    "\n",
    "x = random.randint(100)\n",
    "print(x)"
   ]
  },
  {
   "cell_type": "code",
   "execution_count": 39,
   "id": "1f93ae5f",
   "metadata": {},
   "outputs": [
    {
     "name": "stdout",
     "output_type": "stream",
     "text": [
      "314\n",
      "966\n",
      "847\n",
      "486\n",
      "281\n"
     ]
    }
   ],
   "source": [
    "# print 5 random numbers in range 1000\n",
    "\n",
    "for i in range(5):\n",
    "    print(random.randint(1000))"
   ]
  },
  {
   "cell_type": "code",
   "execution_count": 40,
   "id": "bf242341",
   "metadata": {},
   "outputs": [
    {
     "name": "stdout",
     "output_type": "stream",
     "text": [
      "137\n",
      "231\n",
      "237\n",
      "991\n",
      "895\n"
     ]
    }
   ],
   "source": [
    "# print 5 random numbers in range 1000\n",
    "\n",
    "i=0\n",
    "while(i<5):\n",
    "    print(random.randint(1000))\n",
    "    i+= 1"
   ]
  },
  {
   "cell_type": "code",
   "execution_count": 42,
   "id": "447b267d",
   "metadata": {},
   "outputs": [
    {
     "name": "stdout",
     "output_type": "stream",
     "text": [
      "0.24768829354940614\n"
     ]
    }
   ],
   "source": [
    "# generate random float\n",
    "\n",
    "k = random.rand()\n",
    "print(k)"
   ]
  },
  {
   "cell_type": "code",
   "execution_count": 46,
   "id": "1114b9cd",
   "metadata": {},
   "outputs": [
    {
     "name": "stdout",
     "output_type": "stream",
     "text": [
      "0.6608947210923896\n",
      "0.2758155944791132\n",
      "0.44059584901401316\n",
      "0.979995517539451\n",
      "0.9096509445593709\n",
      "0.6283771980120118\n",
      "0.02174599155537904\n",
      "0.5753584531273973\n",
      "0.8921866081643204\n",
      "0.5165065760239798\n"
     ]
    }
   ],
   "source": [
    "for k in range(10):\n",
    "    print(random.rand())"
   ]
  },
  {
   "cell_type": "markdown",
   "id": "97d84ed5",
   "metadata": {},
   "source": [
    "# Generate Random Array"
   ]
  },
  {
   "cell_type": "code",
   "execution_count": 48,
   "id": "fad37900",
   "metadata": {},
   "outputs": [
    {
     "name": "stdout",
     "output_type": "stream",
     "text": [
      "[9 3 6 7 9]\n"
     ]
    }
   ],
   "source": [
    "z = random.randint(10, size = (5))\n",
    "print(z)"
   ]
  },
  {
   "cell_type": "code",
   "execution_count": 52,
   "id": "d6156431",
   "metadata": {},
   "outputs": [
    {
     "name": "stdout",
     "output_type": "stream",
     "text": [
      "[[29 89 87  7 42]\n",
      " [56  5 35 86 55]\n",
      " [67 11 57 92 54]\n",
      " [51 76 59 60 27]\n",
      " [86 37 41  6 21]]\n"
     ]
    }
   ],
   "source": [
    "y = random.randint(100, size = (5,5))\n",
    "print(y)"
   ]
  },
  {
   "cell_type": "code",
   "execution_count": 55,
   "id": "905a7426",
   "metadata": {},
   "outputs": [
    {
     "name": "stdout",
     "output_type": "stream",
     "text": [
      "(5, 5)\n",
      "2\n"
     ]
    }
   ],
   "source": [
    "print(y.shape)\n",
    "print(y.ndim)"
   ]
  },
  {
   "cell_type": "markdown",
   "id": "4e6c8d97",
   "metadata": {},
   "source": [
    "# Measurement of Central Tendency"
   ]
  },
  {
   "cell_type": "code",
   "execution_count": 57,
   "id": "aee6e8d1",
   "metadata": {},
   "outputs": [
    {
     "name": "stdout",
     "output_type": "stream",
     "text": [
      "[[16 79 69]\n",
      " [43 48 61]\n",
      " [77 47 46]]\n",
      "max in array : 79\n",
      "min in array : 16\n"
     ]
    }
   ],
   "source": [
    "j = random.randint(100, size = (3,3))\n",
    "print(j)\n",
    "\n",
    "#max funtion = np.amax(array name)\n",
    "\n",
    "print(\"max in array :\", np.amax(j))\n",
    "\n",
    "#min funtion = np.amin(array name)\n",
    "\n",
    "print(\"min in array :\", np.amin(j))"
   ]
  },
  {
   "cell_type": "code",
   "execution_count": 68,
   "id": "cf374307",
   "metadata": {},
   "outputs": [
    {
     "name": "stdout",
     "output_type": "stream",
     "text": [
      "[1 2 3 4 5]\n",
      "Mean : 3.0\n",
      "Median : 3.0\n",
      "Standard Deviation : 1.4142135623730951\n",
      "Variance : 2.0\n"
     ]
    }
   ],
   "source": [
    "# Finding Mean, Median, Standart Deviation and variance using numpy\n",
    "\n",
    "testarr = np.array([1,2,3,4,5])\n",
    "print(testarr)\n",
    "\n",
    "#mean\n",
    "print(\"Mean :\",np.mean(testarr))\n",
    "\n",
    "#median\n",
    "print(\"Median :\",np.median(testarr))\n",
    "\n",
    "#Standard Deviation\n",
    "print(\"Standard Deviation :\",np.std(testarr))\n",
    "\n",
    "#Variance\n",
    "print(\"Variance :\",np.var(testarr))\n"
   ]
  },
  {
   "cell_type": "code",
   "execution_count": 70,
   "id": "c4777b64",
   "metadata": {},
   "outputs": [
    {
     "name": "stdout",
     "output_type": "stream",
     "text": [
      "[[92 29 44]\n",
      " [87 32 21]\n",
      " [81 96 94]]\n",
      "Mean : 64.0\n",
      "Median : 81.0\n",
      "Standard Deviation : 29.85892756874492\n",
      "Variance : 891.5555555555555\n"
     ]
    }
   ],
   "source": [
    "c = random.randint(100, size = (3,3))\n",
    "print(c)\n",
    "\n",
    "#mean\n",
    "print(\"Mean :\",np.mean(c))\n",
    "\n",
    "#median\n",
    "print(\"Median :\",np.median(c))\n",
    "\n",
    "#Standard Deviation\n",
    "print(\"Standard Deviation :\",np.std(c))\n",
    "\n",
    "#Variance\n",
    "print(\"Variance :\",np.var(c))\n"
   ]
  },
  {
   "cell_type": "markdown",
   "id": "21216d18",
   "metadata": {},
   "source": [
    "# Array broadcasting in numpy"
   ]
  },
  {
   "cell_type": "code",
   "execution_count": 66,
   "id": "df4d7935",
   "metadata": {},
   "outputs": [
    {
     "data": {
      "text/plain": [
       "array([5, 7, 9])"
      ]
     },
     "execution_count": 66,
     "metadata": {},
     "output_type": "execute_result"
    }
   ],
   "source": [
    "a = np.array([1,2,3])\n",
    "b = np.array([4,5,6])\n",
    "\n",
    "a+b"
   ]
  },
  {
   "cell_type": "code",
   "execution_count": 67,
   "id": "ddd550d5",
   "metadata": {},
   "outputs": [
    {
     "data": {
      "text/plain": [
       "array([ 4, 10, 18])"
      ]
     },
     "execution_count": 67,
     "metadata": {},
     "output_type": "execute_result"
    }
   ],
   "source": [
    "a*b"
   ]
  }
 ],
 "metadata": {
  "kernelspec": {
   "display_name": "Python 3 (ipykernel)",
   "language": "python",
   "name": "python3"
  },
  "language_info": {
   "codemirror_mode": {
    "name": "ipython",
    "version": 3
   },
   "file_extension": ".py",
   "mimetype": "text/x-python",
   "name": "python",
   "nbconvert_exporter": "python",
   "pygments_lexer": "ipython3",
   "version": "3.9.12"
  }
 },
 "nbformat": 4,
 "nbformat_minor": 5
}
